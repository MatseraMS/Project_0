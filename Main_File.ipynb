{
    "cells": [
        {
            "cell_type": "code",
            "execution_count": 2,
            "source": [
                "import numpy as np\r\n",
                "\r\n",
                "count = 0                           # счетчик попыток\r\n",
                "number = np.random.randint(1, 101)   # загадали число\r\n",
                "print(\"Загадано число от 1 до 100\")\r\n",
                "\r\n",
                "while True:                        # бесконечный цикл\r\n",
                "    predict = int(input())         # предполагаемое число\r\n",
                "    count += 1                     # плюсуем попытку\r\n",
                "    if number == predict:\r\n",
                "        break    # выход из цикла, если угадали\r\n",
                "    elif number > predict:\r\n",
                "            print (f\"Угадываемое число больше {predict} \")\r\n",
                "    elif number < predict:\r\n",
                "            print(f\"Угадываемое число меньше {predict} \")\r\n",
                "\r\n",
                "print(f\"Вы угадали число {number} за {count} попыток.\")\r\n"
            ],
            "outputs": [
                {
                    "output_type": "stream",
                    "name": "stdout",
                    "text": [
                        "Загадано число от 1 до 100\n"
                    ]
                },
                {
                    "output_type": "error",
                    "ename": "ValueError",
                    "evalue": "invalid literal for int() with base 10: ''",
                    "traceback": [
                        "\u001b[1;31m---------------------------------------------------------------------------\u001b[0m",
                        "\u001b[1;31mValueError\u001b[0m                                Traceback (most recent call last)",
                        "\u001b[1;32m<ipython-input-2-0beb867b5848>\u001b[0m in \u001b[0;36m<module>\u001b[1;34m\u001b[0m\n\u001b[0;32m      6\u001b[0m \u001b[1;33m\u001b[0m\u001b[0m\n\u001b[0;32m      7\u001b[0m \u001b[1;32mwhile\u001b[0m \u001b[1;32mTrue\u001b[0m\u001b[1;33m:\u001b[0m                        \u001b[1;31m# бесконечный цикл\u001b[0m\u001b[1;33m\u001b[0m\u001b[1;33m\u001b[0m\u001b[0m\n\u001b[1;32m----> 8\u001b[1;33m     \u001b[0mpredict\u001b[0m \u001b[1;33m=\u001b[0m \u001b[0mint\u001b[0m\u001b[1;33m(\u001b[0m\u001b[0minput\u001b[0m\u001b[1;33m(\u001b[0m\u001b[1;33m)\u001b[0m\u001b[1;33m)\u001b[0m         \u001b[1;31m# предполагаемое число\u001b[0m\u001b[1;33m\u001b[0m\u001b[1;33m\u001b[0m\u001b[0m\n\u001b[0m\u001b[0;32m      9\u001b[0m     \u001b[0mcount\u001b[0m \u001b[1;33m+=\u001b[0m \u001b[1;36m1\u001b[0m                     \u001b[1;31m# плюсуем попытку\u001b[0m\u001b[1;33m\u001b[0m\u001b[1;33m\u001b[0m\u001b[0m\n\u001b[0;32m     10\u001b[0m     \u001b[1;32mif\u001b[0m \u001b[0mnumber\u001b[0m \u001b[1;33m==\u001b[0m \u001b[0mpredict\u001b[0m\u001b[1;33m:\u001b[0m\u001b[1;33m\u001b[0m\u001b[1;33m\u001b[0m\u001b[0m\n",
                        "\u001b[1;31mValueError\u001b[0m: invalid literal for int() with base 10: ''"
                    ]
                }
            ],
            "metadata": {}
        },
        {
            "cell_type": "code",
            "execution_count": 15,
            "source": [
                "count = 0                           # счетчик попыток\r\n",
                "number = np.random.randint(1, 101)   # загадали число\r\n",
                "print(\"Загадано число от 1 до 100\")\r\n",
                "\r\n",
                "print (\"Загадано число от 1 до 100\")\r\n",
                "for count in range(1,101):         # более компактный вариант счетчика\r\n",
                "    if number == count: break      # выход из цикла, если угадали      \r\n",
                "print (f\"Вы угадали число {number} за {count} попыток.\")        \r\n"
            ],
            "outputs": [
                {
                    "output_type": "stream",
                    "name": "stdout",
                    "text": [
                        "Загадано число от 1 до 100\n",
                        "Загадано число от 1 до 100\n",
                        "Вы угадали число 50 за 50 попыток.\n"
                    ]
                }
            ],
            "metadata": {}
        },
        {
            "cell_type": "code",
            "execution_count": 21,
            "source": [
                "def game_core_v1(number):\r\n",
                "    '''Просто угадываем на random, никак не используя информацию о больше или меньше.\r\n",
                "       Функция принимает загаданное число и возвращает число попыток'''\r\n",
                "    count = 0\r\n",
                "    while True:\r\n",
                "        count+=1\r\n",
                "        predict = np.random.randint(1,101) # предполагаемое число\r\n",
                "        if number == predict: \r\n",
                "            return count # выход из цикла, если угадали\r\n",
                "        \r\n",
                "        \r\n",
                "def score_game(game_core):\r\n",
                "    '''Запускаем игру 1000 раз, чтобы узнать, как быстро игра угадывает число'''\r\n",
                "    count_ls = []\r\n",
                "    np.random.seed(1)  # фиксируем RANDOM SEED, чтобы ваш эксперимент был воспроизводим!\r\n",
                "    random_array = np.random.randint(1,101, size=(1000))\r\n",
                "    for number in random_array:\r\n",
                "        count_ls.append(game_core(number))\r\n",
                "    score = int(np.mean(count_ls))\r\n",
                "    print(f\"Ваш алгоритм угадывает число в среднем за {score} попыток\")\r\n",
                "    return(score)\r\n",
                "\r\n",
                "def game_core_v2(number):\r\n",
                "    '''Сначала устанавливаем любое random число, а потом уменьшаем или увеличиваем его в зависимости от того, больше оно или меньше нужного.\r\n",
                "       Функция принимает загаданное число и возвращает число попыток'''\r\n",
                "    count = 1\r\n",
                "    predict = np.random.randint(1,101)\r\n",
                "    while number != predict:\r\n",
                "        count+=1\r\n",
                "        if number > predict: \r\n",
                "            predict += 1\r\n",
                "        elif number < predict: \r\n",
                "            predict -= 1\r\n",
                "    return(count) # выход из цикла, если угадали\r\n",
                "\r\n",
                "# запускаем\r\n",
                "score_game(game_core_v1)\r\n",
                "\r\n",
                "# запускаем\r\n",
                "score_game(game_core_v2)"
            ],
            "outputs": [
                {
                    "output_type": "stream",
                    "name": "stdout",
                    "text": [
                        "Ваш алгоритм угадывает число в среднем за 101 попыток\n",
                        "Ваш алгоритм угадывает число в среднем за 33 попыток\n"
                    ]
                },
                {
                    "output_type": "execute_result",
                    "data": {
                        "text/plain": [
                            "33"
                        ]
                    },
                    "metadata": {},
                    "execution_count": 21
                }
            ],
            "metadata": {}
        }
    ],
    "metadata": {
        "orig_nbformat": 4,
        "language_info": {
            "name": "python",
            "version": "3.8.8",
            "mimetype": "text/x-python",
            "codemirror_mode": {
                "name": "ipython",
                "version": 3
            },
            "pygments_lexer": "ipython3",
            "nbconvert_exporter": "python",
            "file_extension": ".py"
        },
        "kernelspec": {
            "name": "python3",
            "display_name": "Python 3.8.8 64-bit ('base': conda)"
        },
        "interpreter": {
            "hash": "9e49e9e5b94ffbcf92b38e6bbae369d81093e2039295ffe956729ef7e2f8d3e1"
        }
    },
    "nbformat": 4,
    "nbformat_minor": 2
}