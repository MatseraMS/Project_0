{
    "cells": [
        {
            "cell_type": "code",
            "execution_count": 22,
            "source": [
                "import numpy as np\r\n",
                "\r\n",
                "count = 0                           # счетчик попыток\r\n",
                "number = np.random.randint(1, 101)   # загадали число\r\n",
                "print(\"Загадано число от 1 до 100\")\r\n",
                "\r\n",
                "while True:                        # бесконечный цикл\r\n",
                "    predict = int(input())         # предполагаемое число\r\n",
                "    count += 1                     # плюсуем попытку\r\n",
                "    if number == predict:\r\n",
                "        break    # выход из цикла, если угадали\r\n",
                "    elif number > predict:\r\n",
                "            print (f\"Угадываемое число больше {predict} \")\r\n",
                "    elif number < predict:\r\n",
                "            print(f\"Угадываемое число меньше {predict} \")\r\n",
                "\r\n",
                "print(f\"Вы угадали число {number} за {count} попыток.\")\r\n"
            ],
            "outputs": [
                {
                    "output_type": "stream",
                    "name": "stdout",
                    "text": [
                        "Загадано число от 1 до 100\n",
                        "Угадываемое число больше 50 \n",
                        "Угадываемое число больше 59 \n",
                        "Угадываемое число меньше 75 \n",
                        "Угадываемое число меньше 65 \n",
                        "Угадываемое число меньше 63 \n",
                        "Вы угадали число 62 за 6 попыток.\n"
                    ]
                }
            ],
            "metadata": {}
        },
        {
            "cell_type": "code",
            "execution_count": 15,
            "source": [
                "count = 0                           # счетчик попыток\r\n",
                "number = np.random.randint(1, 101)   # загадали число\r\n",
                "print(\"Загадано число от 1 до 100\")\r\n",
                "\r\n",
                "print (\"Загадано число от 1 до 100\")\r\n",
                "for count in range(1,101):         # более компактный вариант счетчика\r\n",
                "    if number == count: break      # выход из цикла, если угадали      \r\n",
                "print (f\"Вы угадали число {number} за {count} попыток.\")        \r\n"
            ],
            "outputs": [
                {
                    "output_type": "stream",
                    "name": "stdout",
                    "text": [
                        "Загадано число от 1 до 100\n",
                        "Загадано число от 1 до 100\n",
                        "Вы угадали число 50 за 50 попыток.\n"
                    ]
                }
            ],
            "metadata": {}
        },
        {
            "cell_type": "code",
            "execution_count": 23,
            "source": [
                "def game_core_v1(number):\r\n",
                "    '''Просто угадываем на random, никак не используя информацию о больше или меньше.\r\n",
                "       Функция принимает загаданное число и возвращает число попыток'''\r\n",
                "    count = 0\r\n",
                "    \r\n",
                "    while True:\r\n",
                "        count+=1\r\n",
                "        predict = np.random.randint(1,101) # предполагаемое число\r\n",
                "        if number == predict: \r\n",
                "            return count # выход из цикла, если угадали\r\n",
                "        \r\n",
                "        \r\n",
                "def game_core_v2(number):\r\n",
                "    '''Сначала устанавливаем любое random число, а потом уменьшаем или увеличиваем его в зависимости от того, больше оно или меньше нужного.\r\n",
                "       Функция принимает загаданное число и возвращает число попыток'''\r\n",
                "    count = 1\r\n",
                "    predict = np.random.randint(1,101)\r\n",
                "\r\n",
                "    while number != predict:\r\n",
                "        count+=1\r\n",
                "        if number > predict: \r\n",
                "            predict += 1\r\n",
                "        elif number < predict: \r\n",
                "            predict -= 1\r\n",
                "\r\n",
                "    return(count) # выход из цикла, если угадали\r\n",
                "\r\n",
                "\r\n",
                "def score_game(game_core):\r\n",
                "    '''Запускаем игру 1000 раз, чтобы узнать, как быстро игра угадывает число'''\r\n",
                "    count_ls = []\r\n",
                "    np.random.seed(1)  # фиксируем RANDOM SEED, чтобы ваш эксперимент был воспроизводим!\r\n",
                "    random_array = np.random.randint(1,101, size=(1000))\r\n",
                "\r\n",
                "    for number in random_array:\r\n",
                "        count_ls.append(game_core(number))\r\n",
                "    score = int(np.mean(count_ls))\r\n",
                "    print(f\"Ваш алгоритм угадывает число в среднем за {score} попыток\")\r\n",
                "\r\n",
                "    return(score)\r\n",
                "\r\n",
                "\r\n",
                "# запускаем\r\n",
                "score_game(game_core_v1)\r\n",
                "\r\n",
                "# запускаем\r\n",
                "score_game(game_core_v2)"
            ],
            "outputs": [
                {
                    "output_type": "stream",
                    "name": "stdout",
                    "text": [
                        "Ваш алгоритм угадывает число в среднем за 101 попыток\n",
                        "Ваш алгоритм угадывает число в среднем за 33 попыток\n"
                    ]
                },
                {
                    "output_type": "execute_result",
                    "data": {
                        "text/plain": [
                            "33"
                        ]
                    },
                    "metadata": {},
                    "execution_count": 23
                }
            ],
            "metadata": {}
        },
        {
            "cell_type": "markdown",
            "source": [
                "# **Решение**\r\n",
                "Далее я использую метод **половинного деления** в целях повышения скорости поиска. В сложных задачах с нелинейной зависимостью **y=f(x)** функция будет скатываться в локальный минимум/максимум, но сейчас это не так важно.  \r\n",
                "Есть методы *золотого сечения*, *градиентного спуска*, но они нам не подходят, так как целевая функция является бинарной (угадали/ не угадали).  \r\n",
                "*Задание выполняется в предположении о том, что ничего не известно о числе number, кроме его **диапазона**, а также **результата предыдущей попытки** (больше/меньше).*"
            ],
            "metadata": {}
        },
        {
            "cell_type": "code",
            "execution_count": 36,
            "source": [
                "def game_core_v3(number, min_border = 1, max_border = 101):\r\n",
                "    '''Устанавливаем начальное число посередине диапазона, а потом уменьшаем нижнюю или верхнюю границу диапазона поиска в зависимости от того,\r\n",
                "       больше оно или меньше нужного. Функция принимает загаданное число и возвращает число попыток'''\r\n",
                "    count = 1\r\n",
                "    predict = (max_border + min_border) / 2    #Делаем начальное приближение\r\n",
                "\r\n",
                "    while number != round(predict):\r\n",
                "        if number > predict: \r\n",
                "            min_border = predict    #обновили нижнюю границу\r\n",
                "        elif number < predict: \r\n",
                "            max_border = predict    #обновили верхнюю границу\r\n",
                "        count+=1    \r\n",
                "        predict = (max_border + min_border)/2   #Делим диапазон пополам\r\n",
                "            \r\n",
                "    return(count) # выход из цикла, если угадали\r\n",
                "    \r\n",
                "# запускаем\r\n",
                "score_game(game_core_v3)\r\n"
            ],
            "outputs": [
                {
                    "output_type": "stream",
                    "name": "stdout",
                    "text": [
                        "Ваш алгоритм угадывает число в среднем за 5 попыток\n"
                    ]
                },
                {
                    "output_type": "execute_result",
                    "data": {
                        "text/plain": [
                            "5"
                        ]
                    },
                    "metadata": {},
                    "execution_count": 36
                }
            ],
            "metadata": {}
        }
    ],
    "metadata": {
        "orig_nbformat": 4,
        "language_info": {
            "name": "python",
            "version": "3.8.8",
            "mimetype": "text/x-python",
            "codemirror_mode": {
                "name": "ipython",
                "version": 3
            },
            "pygments_lexer": "ipython3",
            "nbconvert_exporter": "python",
            "file_extension": ".py"
        },
        "kernelspec": {
            "name": "python3",
            "display_name": "Python 3.8.8 64-bit ('base': conda)"
        },
        "interpreter": {
            "hash": "9e49e9e5b94ffbcf92b38e6bbae369d81093e2039295ffe956729ef7e2f8d3e1"
        }
    },
    "nbformat": 4,
    "nbformat_minor": 2
}